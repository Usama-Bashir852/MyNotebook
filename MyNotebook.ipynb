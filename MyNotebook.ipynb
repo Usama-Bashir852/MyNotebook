{
  "metadata": {
    "kernelspec": {
      "name": "python",
      "display_name": "Python (Pyodide)",
      "language": "python"
    },
    "language_info": {
      "codemirror_mode": {
        "name": "python",
        "version": 3
      },
      "file_extension": ".py",
      "mimetype": "text/x-python",
      "name": "python",
      "nbconvert_exporter": "python",
      "pygments_lexer": "ipython3",
      "version": "3.8"
    }
  },
  "nbformat_minor": 4,
  "nbformat": 4,
  "cells": [
    {
      "cell_type": "markdown",
      "source": "# My NoteBook",
      "metadata": {}
    },
    {
      "cell_type": "markdown",
      "source": "## My name is Usama. I'm a University student driven by data and aspiring to unlock its potential. Seeking to leverage data science for a future of insightful success.\n",
      "metadata": {}
    },
    {
      "cell_type": "markdown",
      "source": "### Data Science Languages\n- Python\n- R\n- Scala",
      "metadata": {}
    },
    {
      "cell_type": "markdown",
      "source": "### Data Science libraries\n\n- Numpy\n- Pandas\n- SciPy",
      "metadata": {}
    },
    {
      "cell_type": "markdown",
      "source": "| Data Science Tools | \n|:---------|\n|Apache Spark\t| \n| Matplotlib  | \n| Tableau  | ",
      "metadata": {}
    },
    {
      "cell_type": "markdown",
      "source": "## Arithmetic Expression Examples.",
      "metadata": {}
    },
    {
      "cell_type": "code",
      "source": "print(27 + 27);",
      "metadata": {
        "trusted": true
      },
      "outputs": [
        {
          "name": "stdout",
          "text": "54\n",
          "output_type": "stream"
        }
      ],
      "execution_count": 6
    },
    {
      "cell_type": "code",
      "source": "# Multiply\na = 5.5\nb = 3.2\nresult = a * b\nprint(result) \n\n# Add\n\nc = 3.4\nd = 23.3\nsum = c + d\nprint(sum)",
      "metadata": {
        "trusted": true
      },
      "outputs": [
        {
          "name": "stdout",
          "text": "17.6\n26.7\n",
          "output_type": "stream"
        }
      ],
      "execution_count": 11
    },
    {
      "cell_type": "code",
      "source": "# Convert Minutes to Hours\ndays = 0\nhours = 0\nmins = 0\n\ntime = 200\n#days = time / 1440\nleftover_minutes = time % 1440\nhours = leftover_minutes / 60\n#mins = time - (days*1440) - (hours*60)\nprint(str(days) + \" days, \" + str(hours) + \" hours, \" + str(mins) +  \" mins. \")",
      "metadata": {
        "trusted": true
      },
      "outputs": [
        {
          "name": "stdout",
          "text": "0 days, 3.3333333333333335 hours, 0 mins. \n",
          "output_type": "stream"
        }
      ],
      "execution_count": 12
    },
    {
      "cell_type": "markdown",
      "source": "## Objectives\n\n- Title of the notebook\n- Introduction\n- List data science languages and Libraries\n- Table of Data Science tools\n- Some Math Stuff(multiply and add numbers and convert minutes to hours.)",
      "metadata": {}
    },
    {
      "cell_type": "markdown",
      "source": "## Author\n### Usama Bashir",
      "metadata": {}
    },
    {
      "cell_type": "code",
      "source": "",
      "metadata": {
        "trusted": true
      },
      "outputs": [],
      "execution_count": null
    }
  ]
}